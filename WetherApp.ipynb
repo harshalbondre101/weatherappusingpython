{
  "nbformat": 4,
  "nbformat_minor": 0,
  "metadata": {
    "colab": {
      "provenance": []
    },
    "kernelspec": {
      "name": "python3",
      "display_name": "Python 3"
    },
    "language_info": {
      "name": "python"
    }
  },
  "cells": [
    {
      "cell_type": "code",
      "source": [
        "print(\"City name is case sensetive and date format is YYYY-MM-DD\")\n",
        "city = input(\"Input your city: \")\n",
        "date = input(\"Input your Date: \")\n"
      ],
      "metadata": {
        "colab": {
          "base_uri": "https://localhost:8080/"
        },
        "id": "urPBb7HsM8Zf",
        "outputId": "767c81d3-8f5d-43d9-cee6-5a2a93098adc"
      },
      "execution_count": 18,
      "outputs": [
        {
          "name": "stdout",
          "output_type": "stream",
          "text": [
            "City name is case sensetive and date format is YYYY-MM-DD\n",
            "Input your city: Dilhi\n",
            "Input your Date: 2022-12-01\n"
          ]
        }
      ]
    },
    {
      "cell_type": "code",
      "execution_count": 19,
      "metadata": {
        "colab": {
          "base_uri": "https://localhost:8080/",
          "height": 35
        },
        "id": "BvkD2thvHfub",
        "outputId": "a0730984-83e6-4807-fdb1-a394567ff452"
      },
      "outputs": [
        {
          "output_type": "execute_result",
          "data": {
            "text/plain": [
              "'{\"columns\":[\"coordinates (lat,lon)\",\"model (name)\",\"model elevation (surface)\",\"utc_offset (hrs)\",\"temperature (degC)\"],\"index\":[1669852800],\"data\":[[\"(28.6517178, 77.2219388)\",\"gfs\",220.47,5.5,22.35]]}'"
            ],
            "application/vnd.google.colaboratory.intrinsic+json": {
              "type": "string"
            }
          },
          "metadata": {},
          "execution_count": 19
        }
      ],
      "source": [
        "\n",
        "import requests\n",
        "\n",
        "r = requests.get('https://api.oikolab.com/weather',\n",
        "                 params={'param': ['temperature'],\n",
        "                         'start': date,\n",
        "                         'end': date,\n",
        "                         'location':city,\n",
        "                         'freq': 'D',\n",
        "                         'api-key': '77c98d64bab245d6b646b3c44002b5c3'}\n",
        "                 )\n",
        "r.json()['data']\n",
        "\n"
      ]
    },
    {
      "cell_type": "code",
      "source": [
        "import json\n",
        "import pandas as pd\n",
        "\n",
        "weather_data = json.loads(r.json()['data'])"
      ],
      "metadata": {
        "id": "ChEBuwBHHxVD"
      },
      "execution_count": 20,
      "outputs": []
    },
    {
      "cell_type": "code",
      "source": [
        "weather_data"
      ],
      "metadata": {
        "colab": {
          "base_uri": "https://localhost:8080/"
        },
        "id": "jMUYEXlxKBBZ",
        "outputId": "6ac26193-e055-4393-d836-af54d6510616"
      },
      "execution_count": 24,
      "outputs": [
        {
          "output_type": "execute_result",
          "data": {
            "text/plain": [
              "{'columns': ['coordinates (lat,lon)',\n",
              "  'model (name)',\n",
              "  'model elevation (surface)',\n",
              "  'utc_offset (hrs)',\n",
              "  'temperature (degC)'],\n",
              " 'index': [1669852800],\n",
              " 'data': [['(28.6517178, 77.2219388)', 'gfs', 220.47, 5.5, 22.35]]}"
            ]
          },
          "metadata": {},
          "execution_count": 24
        }
      ]
    },
    {
      "cell_type": "code",
      "source": [
        "df = pd.DataFrame(index=pd.to_datetime(weather_data['index'],\n",
        "                                       unit='s'),\n",
        "                  data=weather_data['data'],\n",
        "                  columns=weather_data['columns'])"
      ],
      "metadata": {
        "id": "oqSynJc0KKiK"
      },
      "execution_count": 28,
      "outputs": []
    },
    {
      "cell_type": "code",
      "source": [
        "df"
      ],
      "metadata": {
        "colab": {
          "base_uri": "https://localhost:8080/",
          "height": 81
        },
        "id": "tpM5O-IzOJi2",
        "outputId": "cd343057-1c49-49c7-e858-36403c4e02f9"
      },
      "execution_count": 29,
      "outputs": [
        {
          "output_type": "execute_result",
          "data": {
            "text/plain": [
              "               coordinates (lat,lon) model (name)  model elevation (surface)  \\\n",
              "2022-12-01  (28.6517178, 77.2219388)          gfs                     220.47   \n",
              "\n",
              "            utc_offset (hrs)  temperature (degC)  \n",
              "2022-12-01               5.5               22.35  "
            ],
            "text/html": [
              "\n",
              "  <div id=\"df-fbf59087-219a-4bc9-89e4-396ffe8e4cbe\">\n",
              "    <div class=\"colab-df-container\">\n",
              "      <div>\n",
              "<style scoped>\n",
              "    .dataframe tbody tr th:only-of-type {\n",
              "        vertical-align: middle;\n",
              "    }\n",
              "\n",
              "    .dataframe tbody tr th {\n",
              "        vertical-align: top;\n",
              "    }\n",
              "\n",
              "    .dataframe thead th {\n",
              "        text-align: right;\n",
              "    }\n",
              "</style>\n",
              "<table border=\"1\" class=\"dataframe\">\n",
              "  <thead>\n",
              "    <tr style=\"text-align: right;\">\n",
              "      <th></th>\n",
              "      <th>coordinates (lat,lon)</th>\n",
              "      <th>model (name)</th>\n",
              "      <th>model elevation (surface)</th>\n",
              "      <th>utc_offset (hrs)</th>\n",
              "      <th>temperature (degC)</th>\n",
              "    </tr>\n",
              "  </thead>\n",
              "  <tbody>\n",
              "    <tr>\n",
              "      <th>2022-12-01</th>\n",
              "      <td>(28.6517178, 77.2219388)</td>\n",
              "      <td>gfs</td>\n",
              "      <td>220.47</td>\n",
              "      <td>5.5</td>\n",
              "      <td>22.35</td>\n",
              "    </tr>\n",
              "  </tbody>\n",
              "</table>\n",
              "</div>\n",
              "      <button class=\"colab-df-convert\" onclick=\"convertToInteractive('df-fbf59087-219a-4bc9-89e4-396ffe8e4cbe')\"\n",
              "              title=\"Convert this dataframe to an interactive table.\"\n",
              "              style=\"display:none;\">\n",
              "        \n",
              "  <svg xmlns=\"http://www.w3.org/2000/svg\" height=\"24px\"viewBox=\"0 0 24 24\"\n",
              "       width=\"24px\">\n",
              "    <path d=\"M0 0h24v24H0V0z\" fill=\"none\"/>\n",
              "    <path d=\"M18.56 5.44l.94 2.06.94-2.06 2.06-.94-2.06-.94-.94-2.06-.94 2.06-2.06.94zm-11 1L8.5 8.5l.94-2.06 2.06-.94-2.06-.94L8.5 2.5l-.94 2.06-2.06.94zm10 10l.94 2.06.94-2.06 2.06-.94-2.06-.94-.94-2.06-.94 2.06-2.06.94z\"/><path d=\"M17.41 7.96l-1.37-1.37c-.4-.4-.92-.59-1.43-.59-.52 0-1.04.2-1.43.59L10.3 9.45l-7.72 7.72c-.78.78-.78 2.05 0 2.83L4 21.41c.39.39.9.59 1.41.59.51 0 1.02-.2 1.41-.59l7.78-7.78 2.81-2.81c.8-.78.8-2.07 0-2.86zM5.41 20L4 18.59l7.72-7.72 1.47 1.35L5.41 20z\"/>\n",
              "  </svg>\n",
              "      </button>\n",
              "      \n",
              "  <style>\n",
              "    .colab-df-container {\n",
              "      display:flex;\n",
              "      flex-wrap:wrap;\n",
              "      gap: 12px;\n",
              "    }\n",
              "\n",
              "    .colab-df-convert {\n",
              "      background-color: #E8F0FE;\n",
              "      border: none;\n",
              "      border-radius: 50%;\n",
              "      cursor: pointer;\n",
              "      display: none;\n",
              "      fill: #1967D2;\n",
              "      height: 32px;\n",
              "      padding: 0 0 0 0;\n",
              "      width: 32px;\n",
              "    }\n",
              "\n",
              "    .colab-df-convert:hover {\n",
              "      background-color: #E2EBFA;\n",
              "      box-shadow: 0px 1px 2px rgba(60, 64, 67, 0.3), 0px 1px 3px 1px rgba(60, 64, 67, 0.15);\n",
              "      fill: #174EA6;\n",
              "    }\n",
              "\n",
              "    [theme=dark] .colab-df-convert {\n",
              "      background-color: #3B4455;\n",
              "      fill: #D2E3FC;\n",
              "    }\n",
              "\n",
              "    [theme=dark] .colab-df-convert:hover {\n",
              "      background-color: #434B5C;\n",
              "      box-shadow: 0px 1px 3px 1px rgba(0, 0, 0, 0.15);\n",
              "      filter: drop-shadow(0px 1px 2px rgba(0, 0, 0, 0.3));\n",
              "      fill: #FFFFFF;\n",
              "    }\n",
              "  </style>\n",
              "\n",
              "      <script>\n",
              "        const buttonEl =\n",
              "          document.querySelector('#df-fbf59087-219a-4bc9-89e4-396ffe8e4cbe button.colab-df-convert');\n",
              "        buttonEl.style.display =\n",
              "          google.colab.kernel.accessAllowed ? 'block' : 'none';\n",
              "\n",
              "        async function convertToInteractive(key) {\n",
              "          const element = document.querySelector('#df-fbf59087-219a-4bc9-89e4-396ffe8e4cbe');\n",
              "          const dataTable =\n",
              "            await google.colab.kernel.invokeFunction('convertToInteractive',\n",
              "                                                     [key], {});\n",
              "          if (!dataTable) return;\n",
              "\n",
              "          const docLinkHtml = 'Like what you see? Visit the ' +\n",
              "            '<a target=\"_blank\" href=https://colab.research.google.com/notebooks/data_table.ipynb>data table notebook</a>'\n",
              "            + ' to learn more about interactive tables.';\n",
              "          element.innerHTML = '';\n",
              "          dataTable['output_type'] = 'display_data';\n",
              "          await google.colab.output.renderOutput(dataTable, element);\n",
              "          const docLink = document.createElement('div');\n",
              "          docLink.innerHTML = docLinkHtml;\n",
              "          element.appendChild(docLink);\n",
              "        }\n",
              "      </script>\n",
              "    </div>\n",
              "  </div>\n",
              "  "
            ]
          },
          "metadata": {},
          "execution_count": 29
        }
      ]
    },
    {
      "cell_type": "code",
      "source": [
        "temp = df.iloc[0,4]\n",
        "\n",
        "print(f\"Temperature for {city} on {date} : {temp}C\") "
      ],
      "metadata": {
        "colab": {
          "base_uri": "https://localhost:8080/"
        },
        "id": "vDKSCBg0Pe7Y",
        "outputId": "32751d2a-169c-4126-e057-71a90621ad6c"
      },
      "execution_count": 35,
      "outputs": [
        {
          "output_type": "stream",
          "name": "stdout",
          "text": [
            "Temperature for Dilhi on 2022-12-01 : 22.35C\n"
          ]
        }
      ]
    },
    {
      "cell_type": "code",
      "source": [],
      "metadata": {
        "id": "L05dNcVIPrIJ"
      },
      "execution_count": null,
      "outputs": []
    }
  ]
}