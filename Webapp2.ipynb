{
  "nbformat": 4,
  "nbformat_minor": 0,
  "metadata": {
    "colab": {
      "provenance": []
    },
    "kernelspec": {
      "name": "python3",
      "display_name": "Python 3"
    },
    "language_info": {
      "name": "python"
    }
  },
  "cells": [
    {
      "cell_type": "code",
      "execution_count": 3,
      "metadata": {
        "id": "icA3JB8tj0Dj"
      },
      "outputs": [],
      "source": [
        "import json\n",
        "import pandas as pd\n",
        "import requests\n",
        "\n",
        "def getdate(city,sdate,edate):\n",
        "  r = requests.get('https://api.oikolab.com/weather',\n",
        "                 params={'param': ['temperature'],\n",
        "                         'start': sdate,\n",
        "                         'end': edate,\n",
        "                         'location':city,\n",
        "                         'freq': 'D',\n",
        "                         'api-key': '77c98d64bab245d6b646b3c44002b5c3'}\n",
        "                 )\n",
        "  r.json()['data']\n",
        "\n",
        "\n",
        "  weather_data = json.loads(r.json()['data'])\n",
        "\n",
        "  df = pd.DataFrame(index=pd.to_datetime(weather_data['index'],\n",
        "                                       unit='s'),\n",
        "                  data=weather_data['data'],\n",
        "                  columns=weather_data['columns'])\n",
        "  variance=df['temperature (degC)'].var()\n",
        "  return variance"
      ]
    },
    {
      "cell_type": "code",
      "source": [
        "getdate('Dilhi','2022-11-01', '2022-11-07')"
      ],
      "metadata": {
        "colab": {
          "base_uri": "https://localhost:8080/"
        },
        "id": "RFBCSyjFka9m",
        "outputId": "00ae8daf-1149-4e14-e3b9-2025f78e14bb"
      },
      "execution_count": 8,
      "outputs": [
        {
          "output_type": "execute_result",
          "data": {
            "text/plain": [
              "0.10229523809523779"
            ]
          },
          "metadata": {},
          "execution_count": 8
        }
      ]
    },
    {
      "cell_type": "code",
      "source": [
        "import datetime\n",
        "city1 = input()\n",
        "city2 = input()\n",
        "start_date = input()\n",
        "start_date = start_date.split('-')\n",
        "obj = datetime.datetime(int(start_date[0]), int(start_date[1]), int(start_date[2]))\n",
        "obj1 = obj + datetime.timedelta(days=7)\n",
        "\n",
        "sdate = obj.strftime('%y-%m-%d')\n",
        "edate = obj1.strftime('%y-%m-%d')\n",
        "\n",
        "var1 = getdate(city1,sdate,edate)\n",
        "var2 = getdate(city2,sdate,edate)\n",
        "\n",
        "if var1<var2:\n",
        "  print(f\"We choose {city1} because of less temperature variance\")\n",
        "\n",
        "else:\n",
        "  print(f\"We choose {city2} because of less temperature variance\")"
      ],
      "metadata": {
        "colab": {
          "base_uri": "https://localhost:8080/",
          "height": 409
        },
        "id": "uEoDzwQwloqK",
        "outputId": "923b21b2-58ba-4092-d73c-70fd746ddd24"
      },
      "execution_count": 11,
      "outputs": [
        {
          "name": "stdout",
          "output_type": "stream",
          "text": [
            "Dilhi\n",
            "Dilhi\n",
            "2022-05-28\n"
          ]
        },
        {
          "output_type": "error",
          "ename": "KeyError",
          "evalue": "ignored",
          "traceback": [
            "\u001b[0;31m---------------------------------------------------------------------------\u001b[0m",
            "\u001b[0;31mKeyError\u001b[0m                                  Traceback (most recent call last)",
            "\u001b[0;32m<ipython-input-11-331c1ac757e0>\u001b[0m in \u001b[0;36m<module>\u001b[0;34m\u001b[0m\n\u001b[1;32m     10\u001b[0m \u001b[0medate\u001b[0m \u001b[0;34m=\u001b[0m \u001b[0mobj1\u001b[0m\u001b[0;34m.\u001b[0m\u001b[0mstrftime\u001b[0m\u001b[0;34m(\u001b[0m\u001b[0;34m'%y-%m-%d'\u001b[0m\u001b[0;34m)\u001b[0m\u001b[0;34m\u001b[0m\u001b[0;34m\u001b[0m\u001b[0m\n\u001b[1;32m     11\u001b[0m \u001b[0;34m\u001b[0m\u001b[0m\n\u001b[0;32m---> 12\u001b[0;31m \u001b[0mvar1\u001b[0m \u001b[0;34m=\u001b[0m \u001b[0mgetdate\u001b[0m\u001b[0;34m(\u001b[0m\u001b[0mcity1\u001b[0m\u001b[0;34m,\u001b[0m\u001b[0msdate\u001b[0m\u001b[0;34m,\u001b[0m\u001b[0medate\u001b[0m\u001b[0;34m)\u001b[0m\u001b[0;34m\u001b[0m\u001b[0;34m\u001b[0m\u001b[0m\n\u001b[0m\u001b[1;32m     13\u001b[0m \u001b[0mvar2\u001b[0m \u001b[0;34m=\u001b[0m \u001b[0mgetdate\u001b[0m\u001b[0;34m(\u001b[0m\u001b[0mcity2\u001b[0m\u001b[0;34m,\u001b[0m\u001b[0msdate\u001b[0m\u001b[0;34m,\u001b[0m\u001b[0medate\u001b[0m\u001b[0;34m)\u001b[0m\u001b[0;34m\u001b[0m\u001b[0;34m\u001b[0m\u001b[0m\n\u001b[1;32m     14\u001b[0m \u001b[0;34m\u001b[0m\u001b[0m\n",
            "\u001b[0;32m<ipython-input-3-ce567ec2fb91>\u001b[0m in \u001b[0;36mgetdate\u001b[0;34m(city, sdate, edate)\u001b[0m\n\u001b[1;32m     12\u001b[0m                          'api-key': '77c98d64bab245d6b646b3c44002b5c3'}\n\u001b[1;32m     13\u001b[0m                  )\n\u001b[0;32m---> 14\u001b[0;31m   \u001b[0mr\u001b[0m\u001b[0;34m.\u001b[0m\u001b[0mjson\u001b[0m\u001b[0;34m(\u001b[0m\u001b[0;34m)\u001b[0m\u001b[0;34m[\u001b[0m\u001b[0;34m'data'\u001b[0m\u001b[0;34m]\u001b[0m\u001b[0;34m\u001b[0m\u001b[0;34m\u001b[0m\u001b[0m\n\u001b[0m\u001b[1;32m     15\u001b[0m \u001b[0;34m\u001b[0m\u001b[0m\n\u001b[1;32m     16\u001b[0m \u001b[0;34m\u001b[0m\u001b[0m\n",
            "\u001b[0;31mKeyError\u001b[0m: 'data'"
          ]
        }
      ]
    },
    {
      "cell_type": "code",
      "source": [],
      "metadata": {
        "id": "uV7d3inamPy1"
      },
      "execution_count": null,
      "outputs": []
    }
  ]
}